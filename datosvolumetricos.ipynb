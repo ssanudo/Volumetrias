{
  "nbformat": 4,
  "nbformat_minor": 0,
  "metadata": {
    "colab": {
      "provenance": [],
      "collapsed_sections": [],
      "authorship_tag": "ABX9TyM5rAfKkmmP5K/ZWnXYaiM2",
      "include_colab_link": true
    },
    "kernelspec": {
      "name": "python3",
      "display_name": "Python 3"
    },
    "language_info": {
      "name": "python"
    }
  },
  "cells": [
    {
      "cell_type": "markdown",
      "metadata": {
        "id": "view-in-github",
        "colab_type": "text"
      },
      "source": [
        "<a href=\"https://colab.research.google.com/github/ssanudo/Volumetrias/blob/main/datosvolumetricos.ipynb\" target=\"_parent\"><img src=\"https://colab.research.google.com/assets/colab-badge.svg\" alt=\"Open In Colab\"/></a>"
      ]
    },
    {
      "cell_type": "markdown",
      "source": [
        "# **Procesamiento de Volumetrias ya generadas en Freesurfer y VolBrain.**\n",
        "\n",
        "Trabajo con pacientes control de MRI T1 estructurales adquiridas de ADNI, ABIDE, PPMI."
      ],
      "metadata": {
        "id": "Y3iireNCWwRb"
      }
    },
    {
      "cell_type": "code",
      "execution_count": null,
      "metadata": {
        "id": "EOh7ANUPWvUS"
      },
      "outputs": [],
      "source": [
        "\n",
        "import numpy as np\n",
        "import pandas as pd\n",
        "import matplotlib.pyplot as plt\n",
        "import matplotlib"
      ]
    },
    {
      "cell_type": "code",
      "source": [
        "#Funciones\n",
        "\n",
        "def ArmoMatrizFreesurfer(OpKernel, Img):\n",
        "\n",
        "def ArmoMatrizVolBrain():\n",
        "\n",
        "def SumoFreesurferVolBrain():\n",
        "\n",
        "def SeleccVolPorSexAge(Sex,MinAge,MaxAge): #Elige sexo Fem,Masc,Ambos \n",
        "\n"
      ],
      "metadata": {
        "id": "HWswlTv2XbLY"
      },
      "execution_count": null,
      "outputs": []
    },
    {
      "cell_type": "code",
      "source": [],
      "metadata": {
        "id": "fCe7BQmnXcGV"
      },
      "execution_count": null,
      "outputs": []
    }
  ]
}